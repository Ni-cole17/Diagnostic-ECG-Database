{
  "nbformat": 4,
  "nbformat_minor": 0,
  "metadata": {
    "colab": {
      "provenance": [],
      "collapsed_sections": [
        "ToFWSBCKsiMe",
        "5gBDcWsCsmh7",
        "8rW6yalMszk5"
      ],
      "include_colab_link": true
    },
    "kernelspec": {
      "name": "python3",
      "display_name": "Python 3"
    },
    "language_info": {
      "name": "python"
    }
  },
  "cells": [
    {
      "cell_type": "markdown",
      "metadata": {
        "id": "view-in-github",
        "colab_type": "text"
      },
      "source": [
        "<a href=\"https://colab.research.google.com/github/Ni-cole17/Diagnostic-ECG-Database/blob/main/Prepare_and_Visualize_Data.ipynb\" target=\"_parent\"><img src=\"https://colab.research.google.com/assets/colab-badge.svg\" alt=\"Open In Colab\"/></a>"
      ]
    },
    {
      "cell_type": "markdown",
      "source": [
        "## Imports"
      ],
      "metadata": {
        "id": "mRD5UjkAsfMT"
      }
    },
    {
      "cell_type": "code",
      "source": [
        "from google.colab import drive\n",
        "drive.mount('/content/drive')"
      ],
      "metadata": {
        "colab": {
          "base_uri": "https://localhost:8080/"
        },
        "id": "XHXUZ-5GPWZx",
        "outputId": "c99660cd-e1e4-482b-bf38-6a72c2ec2b6c"
      },
      "execution_count": 1,
      "outputs": [
        {
          "output_type": "stream",
          "name": "stdout",
          "text": [
            "Mounted at /content/drive\n"
          ]
        }
      ]
    },
    {
      "cell_type": "code",
      "source": [
        "!pip install wfdb\n",
        "!pip install tqdm\n",
        "!pip install matplotlib\n",
        "!pip install streamlit\n",
        "!pip install pyngrok\n",
        "!pip install tensorflow\n",
        "!pip install scikit-learn\n",
        "!pip install scikit-image"
      ],
      "metadata": {
        "id": "rUQDEGcQSSnB"
      },
      "execution_count": null,
      "outputs": []
    },
    {
      "cell_type": "code",
      "source": [
        "import wfdb\n",
        "import pandas as pd\n",
        "import numpy as np\n",
        "import re\n",
        "import csv\n",
        "import os\n",
        "import json \n",
        "from itertools import islice\n",
        "import ast\n",
        "import sys\n",
        "import matplotlib.pyplot as plt\n",
        "import plotly.express as px\n",
        "import random\n",
        "import tqdm"
      ],
      "metadata": {
        "id": "gbAIyxRdScV-"
      },
      "execution_count": 4,
      "outputs": []
    },
    {
      "cell_type": "code",
      "source": [
        "# Importing Classes from src folder\n",
        "from src.ReadFile import ReadFile\n",
        "from src.OrganizeFields import OrganizeFields\n",
        "from src.Registro import Registro\n",
        "from src.Json import Json\n",
        "from src.Visualization import Visualization"
      ],
      "metadata": {
        "id": "VjZRUiBKtDnb"
      },
      "execution_count": null,
      "outputs": []
    },
    {
      "cell_type": "markdown",
      "source": [
        "## Extract and Organize Data"
      ],
      "metadata": {
        "id": "7hvkTr0_n0TY"
      }
    },
    {
      "cell_type": "code",
      "source": [
        "# Go to your directory path\n",
        "# If you don't have a directory run the git clone cell\n",
        "%cd '/content/drive/MyDrive/Projeto-Tecnicas'"
      ],
      "metadata": {
        "colab": {
          "base_uri": "https://localhost:8080/"
        },
        "id": "FDc5mqwlkra8",
        "outputId": "ab1087af-06b5-46a9-b17c-e47ecf968a2a"
      },
      "execution_count": 5,
      "outputs": [
        {
          "output_type": "stream",
          "name": "stdout",
          "text": [
            "/content/drive/MyDrive/Projeto-Tecnicas\n"
          ]
        }
      ]
    },
    {
      "cell_type": "code",
      "source": [
        "#!git clone https://github.com/Ni-cole17/Diagnostic-ECG-Database.git"
      ],
      "metadata": {
        "id": "MS3stIFKOLV3"
      },
      "execution_count": null,
      "outputs": []
    },
    {
      "cell_type": "markdown",
      "source": [
        "### Generate Json of heas"
      ],
      "metadata": {
        "id": "SgWYLz4qJLFx"
      }
    },
    {
      "cell_type": "code",
      "source": [
        "# Just run this if you want to generate another heas.json\n",
        "# Copying zip database to colab content\n",
        "\n",
        "#!cp '/content/drive/MyDrive/Projeto-Tecnicas/ptb-diagnostic-ecg-database-1.0.0.zip' /content\n",
        "\n",
        "# Unzip Database\n",
        "#!7z x '/content/ptb-diagnostic-ecg-database-1.0.0.zip'"
      ],
      "metadata": {
        "id": "LfoNznaQJJ8_"
      },
      "execution_count": null,
      "outputs": []
    },
    {
      "cell_type": "code",
      "source": [
        "path_orig = '/content/ptb-diagnostic-ecg-database-1.0.0'\n",
        "paths = [paths for paths in os.listdir(path_orig) if os.path.isdir(os.path.join(path_orig,paths)) == True]\n",
        "patient_heas = {}\n",
        "for i in paths:\n",
        "  list_hea = [hea for hea in os.listdir(os.path.join(path_orig,i)) if hea.endswith('.hea')]\n",
        "  patient_heas[i] = {'heas': list_hea}\n",
        "\n",
        "print(patient_heas)"
      ],
      "metadata": {
        "id": "jD1u8Zl6JxTV"
      },
      "execution_count": null,
      "outputs": []
    },
    {
      "cell_type": "code",
      "source": [
        "patient_h = Json('patient_heas.json').save_json()"
      ],
      "metadata": {
        "id": "Aa0x3FIiJx3f"
      },
      "execution_count": null,
      "outputs": []
    },
    {
      "cell_type": "markdown",
      "source": [
        "### Openning json and import classes"
      ],
      "metadata": {
        "id": "AAgCg6qWKFGg"
      }
    },
    {
      "cell_type": "code",
      "source": [
        "# Openning heas json\n",
        "heas_json = Json('patient_heas.json').load_json()"
      ],
      "metadata": {
        "id": "99vWc6scsgTy"
      },
      "execution_count": 6,
      "outputs": []
    },
    {
      "cell_type": "markdown",
      "source": [
        "### Generate Data"
      ],
      "metadata": {
        "id": "9xmU-XZPL3q2"
      }
    },
    {
      "cell_type": "code",
      "source": [
        "# Generating cvs with record and signal information and Generating .txt files\n",
        "# You have to have a folder on your directory called Signals (this is where will save the .txt files)\n",
        "\n",
        "# Walking on json items\n",
        "for k,v in tqdm.tqdm(heas_json.items()):\n",
        "  new_patient = True \n",
        "\n",
        "  # Id Patient\n",
        "  idP = k\n",
        "  for value in v['heas']:\n",
        "    # Id Signal\n",
        "    idS = value.replace('.hea','')\n",
        "\n",
        "    # Reading signal and fields from wfdb\n",
        "    signal, fields = ReadFile(idS,k).read()\n",
        "\n",
        "    # Getting organized dicts and saving the data\n",
        "    fields,signal_fields = OrganizeFields(fields).get_dicts()\n",
        "    # Descomment the code below with you want to save data\n",
        "    ##register = Registro(fields,signal_fields,signal,new_patient,idP,idS).save_data()\n",
        "\n",
        "    # Setting new patient False, because we don't want save the same patient twice on Record_info.csv\n",
        "    new_patient = False"
      ],
      "metadata": {
        "colab": {
          "base_uri": "https://localhost:8080/"
        },
        "id": "fRfxY-Q_1SpN",
        "outputId": "394079e6-3545-43f6-fdf3-037d8c8b981f"
      },
      "execution_count": 9,
      "outputs": [
        {
          "output_type": "stream",
          "name": "stderr",
          "text": [
            "100%|██████████| 290/290 [26:27<00:00,  5.47s/it]\n"
          ]
        }
      ]
    },
    {
      "cell_type": "markdown",
      "source": [
        "## Visualization (via streamlit)\n"
      ],
      "metadata": {
        "id": "ToFWSBCKsiMe"
      }
    },
    {
      "cell_type": "code",
      "source": [
        "!git clone https://github.com/Ni-cole17/Diagnostic-ECG-Database.git"
      ],
      "metadata": {
        "id": "-uYPUF6EHhyt",
        "outputId": "44569cc8-9478-4a85-88bd-221a8ea03628",
        "colab": {
          "base_uri": "https://localhost:8080/"
        }
      },
      "execution_count": 2,
      "outputs": [
        {
          "output_type": "stream",
          "name": "stdout",
          "text": [
            "Cloning into 'Diagnostic-ECG-Database'...\n",
            "remote: Enumerating objects: 169, done.\u001b[K\n",
            "remote: Counting objects: 100% (151/151), done.\u001b[K\n",
            "remote: Compressing objects: 100% (85/85), done.\u001b[K\n",
            "remote: Total 169 (delta 85), reused 112 (delta 64), pack-reused 18\u001b[K\n",
            "Receiving objects: 100% (169/169), 3.88 MiB | 30.32 MiB/s, done.\n",
            "Resolving deltas: 100% (85/85), done.\n"
          ]
        }
      ]
    },
    {
      "cell_type": "code",
      "source": [
        "%cd Diagnostic-ECG-Database"
      ],
      "metadata": {
        "id": "qvqOJSTMH07F",
        "outputId": "e74d9307-edf7-4bfb-9dc7-5a0903c4091b",
        "colab": {
          "base_uri": "https://localhost:8080/"
        }
      },
      "execution_count": 3,
      "outputs": [
        {
          "output_type": "stream",
          "name": "stdout",
          "text": [
            "/content/Diagnostic-ECG-Database\n"
          ]
        }
      ]
    },
    {
      "cell_type": "code",
      "source": [
        "# Download the folder https://drive.google.com/file/d/1RMQCL9A9JVs1Znw2xhTAytqXlqoIMGTk/view?usp=sharing and then put on your repository"
      ],
      "metadata": {
        "id": "s235pPvcPrep"
      },
      "execution_count": null,
      "outputs": []
    },
    {
      "cell_type": "code",
      "source": [
        "# You don't need to run this code if you upload follow the instructions above\n",
        "!cp '/content/drive/MyDrive/Projeto-Tecnicas/Signal.zip' '/content/Diagnostic-ECG-Database'"
      ],
      "metadata": {
        "id": "_iLqoILNK_0Z"
      },
      "execution_count": 4,
      "outputs": []
    },
    {
      "cell_type": "code",
      "source": [
        "import zipfile\n",
        "with zipfile.ZipFile(\"Signal.zip\",\"r\") as zip_ref:\n",
        "    zip_ref.extractall(\"\")"
      ],
      "metadata": {
        "id": "5YulYUhQKzdN"
      },
      "execution_count": 6,
      "outputs": []
    },
    {
      "cell_type": "code",
      "source": [
        "!streamlit run app.py &>/dev/null&"
      ],
      "metadata": {
        "id": "l2iYJJG3Gcqy"
      },
      "execution_count": 7,
      "outputs": []
    },
    {
      "cell_type": "code",
      "source": [
        "# Please dowload ngrok zip file from https://ngrok.com/download and then upload the file to your repository on google colab content"
      ],
      "metadata": {
        "id": "ocIzLMJoGzkM"
      },
      "execution_count": null,
      "outputs": []
    },
    {
      "cell_type": "code",
      "source": [
        "!unzip ngrok-v3-stable-windows-amd64.zip"
      ],
      "metadata": {
        "id": "uDGT95UfHTeW",
        "outputId": "8a83febe-2009-4784-b0ca-8088ba520139",
        "colab": {
          "base_uri": "https://localhost:8080/"
        }
      },
      "execution_count": 25,
      "outputs": [
        {
          "output_type": "stream",
          "name": "stdout",
          "text": [
            "Archive:  ngrok-v3-stable-windows-amd64.zip\n",
            "  inflating: ngrok.exe               \n"
          ]
        }
      ]
    },
    {
      "cell_type": "code",
      "source": [
        "!ngrok authtoken <your_auth_token>"
      ],
      "metadata": {
        "id": "SjJhnzOlGqra",
        "outputId": "a3224fbf-d4fc-42d4-c1ec-21187d9a2fb9",
        "colab": {
          "base_uri": "https://localhost:8080/"
        }
      },
      "execution_count": 34,
      "outputs": [
        {
          "output_type": "stream",
          "name": "stdout",
          "text": [
            "Authtoken saved to configuration file: /root/.ngrok2/ngrok.yml\n"
          ]
        }
      ]
    },
    {
      "cell_type": "code",
      "source": [
        "from pyngrok import ngrok\n",
        "# Setup a tunnel to the streamlit port 8501\n",
        "public_url = ngrok.connect(addr='8501')\n",
        "public_url"
      ],
      "metadata": {
        "id": "M5Z7ETOgHaL0",
        "outputId": "0c23e9b2-fcbf-46f8-b316-298b254c0d8f",
        "colab": {
          "base_uri": "https://localhost:8080/"
        }
      },
      "execution_count": 40,
      "outputs": [
        {
          "output_type": "execute_result",
          "data": {
            "text/plain": [
              "<NgrokTunnel: \"http://0e9e-34-86-211-108.ngrok.io\" -> \"http://localhost:8501\">"
            ]
          },
          "metadata": {},
          "execution_count": 40
        }
      ]
    }
  ]
}