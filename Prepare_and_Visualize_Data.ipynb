{
  "nbformat": 4,
  "nbformat_minor": 0,
  "metadata": {
    "colab": {
      "provenance": [],
      "collapsed_sections": [
        "ToFWSBCKsiMe",
        "5gBDcWsCsmh7",
        "8rW6yalMszk5"
      ],
      "include_colab_link": true
    },
    "kernelspec": {
      "name": "python3",
      "display_name": "Python 3"
    },
    "language_info": {
      "name": "python"
    }
  },
  "cells": [
    {
      "cell_type": "markdown",
      "metadata": {
        "id": "view-in-github",
        "colab_type": "text"
      },
      "source": [
        "<a href=\"https://colab.research.google.com/github/Ni-cole17/Diagnostic-ECG-Database/blob/main/Prepare_and_Visualize_Data.ipynb\" target=\"_parent\"><img src=\"https://colab.research.google.com/assets/colab-badge.svg\" alt=\"Open In Colab\"/></a>"
      ]
    },
    {
      "cell_type": "markdown",
      "source": [
        "## Imports"
      ],
      "metadata": {
        "id": "mRD5UjkAsfMT"
      }
    },
    {
      "cell_type": "code",
      "source": [
        "from google.colab import drive\n",
        "drive.mount('/content/drive')"
      ],
      "metadata": {
        "colab": {
          "base_uri": "https://localhost:8080/"
        },
        "id": "XHXUZ-5GPWZx",
        "outputId": "0c99925e-de8d-4b89-d1ef-341972d5563a"
      },
      "execution_count": 1,
      "outputs": [
        {
          "output_type": "stream",
          "name": "stdout",
          "text": [
            "Mounted at /content/drive\n"
          ]
        }
      ]
    },
    {
      "cell_type": "code",
      "source": [
        "!pip install wfdb\n",
        "!pip install tqdm"
      ],
      "metadata": {
        "colab": {
          "base_uri": "https://localhost:8080/"
        },
        "id": "rUQDEGcQSSnB",
        "outputId": "0c4d028e-3234-45a6-f08d-ccb8dc0c02c0"
      },
      "execution_count": 2,
      "outputs": [
        {
          "output_type": "stream",
          "name": "stdout",
          "text": [
            "Looking in indexes: https://pypi.org/simple, https://us-python.pkg.dev/colab-wheels/public/simple/\n",
            "Collecting wfdb\n",
            "  Downloading wfdb-4.0.0-py3-none-any.whl (161 kB)\n",
            "\u001b[K     |████████████████████████████████| 161 kB 5.2 MB/s \n",
            "\u001b[?25hRequirement already satisfied: matplotlib<4.0.0,>=3.2.2 in /usr/local/lib/python3.7/dist-packages (from wfdb) (3.2.2)\n",
            "Requirement already satisfied: numpy<2.0.0,>=1.10.1 in /usr/local/lib/python3.7/dist-packages (from wfdb) (1.21.6)\n",
            "Requirement already satisfied: SoundFile<0.12.0,>=0.10.0 in /usr/local/lib/python3.7/dist-packages (from wfdb) (0.11.0)\n",
            "Requirement already satisfied: requests<3.0.0,>=2.8.1 in /usr/local/lib/python3.7/dist-packages (from wfdb) (2.23.0)\n",
            "Requirement already satisfied: pandas<2.0.0,>=1.0.0 in /usr/local/lib/python3.7/dist-packages (from wfdb) (1.3.5)\n",
            "Requirement already satisfied: scipy<2.0.0,>=1.0.0 in /usr/local/lib/python3.7/dist-packages (from wfdb) (1.7.3)\n",
            "Requirement already satisfied: pyparsing!=2.0.4,!=2.1.2,!=2.1.6,>=2.0.1 in /usr/local/lib/python3.7/dist-packages (from matplotlib<4.0.0,>=3.2.2->wfdb) (3.0.9)\n",
            "Requirement already satisfied: kiwisolver>=1.0.1 in /usr/local/lib/python3.7/dist-packages (from matplotlib<4.0.0,>=3.2.2->wfdb) (1.4.4)\n",
            "Requirement already satisfied: cycler>=0.10 in /usr/local/lib/python3.7/dist-packages (from matplotlib<4.0.0,>=3.2.2->wfdb) (0.11.0)\n",
            "Requirement already satisfied: python-dateutil>=2.1 in /usr/local/lib/python3.7/dist-packages (from matplotlib<4.0.0,>=3.2.2->wfdb) (2.8.2)\n",
            "Requirement already satisfied: typing-extensions in /usr/local/lib/python3.7/dist-packages (from kiwisolver>=1.0.1->matplotlib<4.0.0,>=3.2.2->wfdb) (4.1.1)\n",
            "Requirement already satisfied: pytz>=2017.3 in /usr/local/lib/python3.7/dist-packages (from pandas<2.0.0,>=1.0.0->wfdb) (2022.5)\n",
            "Requirement already satisfied: six>=1.5 in /usr/local/lib/python3.7/dist-packages (from python-dateutil>=2.1->matplotlib<4.0.0,>=3.2.2->wfdb) (1.15.0)\n",
            "Requirement already satisfied: chardet<4,>=3.0.2 in /usr/local/lib/python3.7/dist-packages (from requests<3.0.0,>=2.8.1->wfdb) (3.0.4)\n",
            "Requirement already satisfied: certifi>=2017.4.17 in /usr/local/lib/python3.7/dist-packages (from requests<3.0.0,>=2.8.1->wfdb) (2022.9.24)\n",
            "Requirement already satisfied: urllib3!=1.25.0,!=1.25.1,<1.26,>=1.21.1 in /usr/local/lib/python3.7/dist-packages (from requests<3.0.0,>=2.8.1->wfdb) (1.24.3)\n",
            "Requirement already satisfied: idna<3,>=2.5 in /usr/local/lib/python3.7/dist-packages (from requests<3.0.0,>=2.8.1->wfdb) (2.10)\n",
            "Requirement already satisfied: cffi>=1.0 in /usr/local/lib/python3.7/dist-packages (from SoundFile<0.12.0,>=0.10.0->wfdb) (1.15.1)\n",
            "Requirement already satisfied: pycparser in /usr/local/lib/python3.7/dist-packages (from cffi>=1.0->SoundFile<0.12.0,>=0.10.0->wfdb) (2.21)\n",
            "Installing collected packages: wfdb\n",
            "Successfully installed wfdb-4.0.0\n"
          ]
        }
      ]
    },
    {
      "cell_type": "code",
      "source": [
        "import wfdb\n",
        "import pandas as pd\n",
        "import numpy as np\n",
        "import re\n",
        "import csv\n",
        "import os\n",
        "import json \n",
        "from itertools import islice\n",
        "import ast\n",
        "import sys\n",
        "import matplotlib.pyplot as plt\n",
        "import plotly.express as px\n",
        "import random\n",
        "import tqdm"
      ],
      "metadata": {
        "id": "gbAIyxRdScV-"
      },
      "execution_count": 3,
      "outputs": []
    },
    {
      "cell_type": "markdown",
      "source": [
        "## Extract and Organize Data"
      ],
      "metadata": {
        "id": "7hvkTr0_n0TY"
      }
    },
    {
      "cell_type": "code",
      "source": [
        "# Go to your directory path\n",
        "# If you don't have a directory run the git clone cell\n",
        "%cd '/content/drive/MyDrive/Projeto-Tecnicas'"
      ],
      "metadata": {
        "colab": {
          "base_uri": "https://localhost:8080/"
        },
        "id": "FDc5mqwlkra8",
        "outputId": "50ef743e-4765-4611-8ca4-36a94960d3d7"
      },
      "execution_count": 4,
      "outputs": [
        {
          "output_type": "stream",
          "name": "stdout",
          "text": [
            "/content/drive/MyDrive/Projeto-Tecnicas\n"
          ]
        }
      ]
    },
    {
      "cell_type": "code",
      "source": [
        "#!git clone https://github.com/Ni-cole17/Diagnostic-ECG-Database.git"
      ],
      "metadata": {
        "id": "MS3stIFKOLV3"
      },
      "execution_count": null,
      "outputs": []
    },
    {
      "cell_type": "markdown",
      "source": [
        "### Generate Json of heas"
      ],
      "metadata": {
        "id": "SgWYLz4qJLFx"
      }
    },
    {
      "cell_type": "code",
      "source": [
        "# Just run this if you want to generate another heas.json\n",
        "# Copying zip database to colab content\n",
        "\n",
        "#!cp '/content/drive/MyDrive/Projeto-Tecnicas/ptb-diagnostic-ecg-database-1.0.0.zip' /content\n",
        "\n",
        "# Unzip Database\n",
        "#!7z x '/content/ptb-diagnostic-ecg-database-1.0.0.zip'"
      ],
      "metadata": {
        "id": "LfoNznaQJJ8_"
      },
      "execution_count": null,
      "outputs": []
    },
    {
      "cell_type": "code",
      "source": [
        "path_orig = '/content/ptb-diagnostic-ecg-database-1.0.0'\n",
        "paths = [paths for paths in os.listdir(path_orig) if os.path.isdir(os.path.join(path_orig,paths)) == True]\n",
        "patient_heas = {}\n",
        "for i in paths:\n",
        "  list_hea = [hea for hea in os.listdir(os.path.join(path_orig,i)) if hea.endswith('.hea')]\n",
        "  patient_heas[i] = {'heas': list_hea}\n",
        "\n",
        "print(patient_heas)"
      ],
      "metadata": {
        "id": "jD1u8Zl6JxTV"
      },
      "execution_count": null,
      "outputs": []
    },
    {
      "cell_type": "code",
      "source": [
        "with open(\"patient_heas.json\", \"w\") as outfile:\n",
        "    json.dump(patient_heas, outfile,indent = 4)"
      ],
      "metadata": {
        "id": "Aa0x3FIiJx3f"
      },
      "execution_count": null,
      "outputs": []
    },
    {
      "cell_type": "markdown",
      "source": [
        "### Openning json and import classes"
      ],
      "metadata": {
        "id": "AAgCg6qWKFGg"
      }
    },
    {
      "cell_type": "code",
      "source": [
        "# Openning heas json\n",
        "heas_json = dict(pd.read_json('patient_heas.json',typ='series'))"
      ],
      "metadata": {
        "id": "99vWc6scsgTy"
      },
      "execution_count": 5,
      "outputs": []
    },
    {
      "cell_type": "code",
      "source": [
        "# Importing Classes from src folder\n",
        "from src.ReadFile import ReadFile\n",
        "from src.OrganizeFields import OrganizeFields\n",
        "from src.Registro import Registro"
      ],
      "metadata": {
        "id": "kseQAvL1CxK_"
      },
      "execution_count": 8,
      "outputs": []
    },
    {
      "cell_type": "markdown",
      "source": [
        "### Generate Data"
      ],
      "metadata": {
        "id": "9xmU-XZPL3q2"
      }
    },
    {
      "cell_type": "code",
      "source": [
        "# Generating cvs with record and signal information and Generating .txt files\n",
        "# You have to have a folder on your directory called Signals (this is where will save the .txt files)\n",
        "\n",
        "# Walking on json items\n",
        "for k,v in tqdm.tqdm(heas_json.items()):\n",
        "  new_patient = True \n",
        "\n",
        "  # Id Patient\n",
        "  idP = k\n",
        "  for value in v['heas']:\n",
        "    # Id Signal\n",
        "    idS = value.replace('.hea','')\n",
        "\n",
        "    # Reading signal and fields from wfdb\n",
        "    signal, fields = ReadFile(idS,k).read()\n",
        "\n",
        "    # Getting organized dicts and saving the data\n",
        "    fields,signal_fields = OrganizeFields(fields).get_dicts()\n",
        "    # Descomment the code below with you want to save data\n",
        "    ##register = Registro(fields,signal_fields,signal,new_patient,idP,idS).save_data()\n",
        "\n",
        "    # Setting new patient False, because we don't want save the same patient twice on Record_info.csv\n",
        "    new_patient = False"
      ],
      "metadata": {
        "colab": {
          "base_uri": "https://localhost:8080/"
        },
        "id": "fRfxY-Q_1SpN",
        "outputId": "61733439-7a1d-429c-d51e-f258133ce1c0"
      },
      "execution_count": 9,
      "outputs": [
        {
          "output_type": "stream",
          "name": "stderr",
          "text": [
            "100%|██████████| 290/290 [04:51<00:00,  1.01s/it]\n"
          ]
        }
      ]
    },
    {
      "cell_type": "markdown",
      "source": [
        "## Visualization\n"
      ],
      "metadata": {
        "id": "ToFWSBCKsiMe"
      }
    },
    {
      "cell_type": "code",
      "source": [
        "class ItemsSignal:\n",
        "  def __init__(self,base,idP,idR,signal):\n",
        "    self.base = base\n",
        "    self.idP = idP\n",
        "    self.idR = idR\n",
        "    self.signal = signal\n",
        "\n",
        "  def Query(self,base):\n",
        "\n",
        "    return base[(base.idP == self.idP) & (base.idS == self.idS)]\n",
        "\n",
        "  def take_fs(self):\n",
        "    select = self.Query()\n",
        "    fs = int(pd.Series(select.fs).values)\n",
        "    return fs\n",
        "\n",
        "  def take_time(self):\n",
        "    fs = self.take_fs()\n",
        "    sizesig = len(self.signal)\n",
        "    ts = 1 / fs\n",
        "    t = np.arange(0, sizesig) * ts\n",
        "\n",
        "    return t\n",
        "\n",
        "  def take_signal(self):\n",
        "    signal = self.Query(self.signal)\n",
        "    signal = str(pd.Series(signal.Signal).values)\n",
        "    record = record = wfdb.rdrecord(signal, channels=[*range(15)], sampfrom=100, sampto=15000) \n",
        "    record =record.__dict__\n",
        "    array_sig = record['p_signal']\n",
        "    return array_sig"
      ],
      "metadata": {
        "id": "f_hj9uF5sx7s"
      },
      "execution_count": 116,
      "outputs": []
    },
    {
      "cell_type": "code",
      "source": [
        "class Visualization:\n",
        "  def __init__(self,csv,idP,idR,signal):\n",
        "   self.base = pd.read_csv(csv)\n",
        "   self.idP = idP\n",
        "   self.idR = idR\n",
        "   self.signal = signal  # serÃƒÂ¡ um dataframe igual o antigo mas em vez de ser o array serÃƒÂ¡ o caminho do arquivo dat\n",
        "   self.Items = ItemsSignal(self.base,self.idP,self.idR,self.signal)\n",
        "    \n",
        "  def Hist(self,column):\n",
        "    plt.hist(self.base.column)\n",
        "\n",
        "  def plot_signal(self,Type):\n",
        "    t = self.Items.take_time()\n",
        "    sig = self.Items.take_signal()\n",
        "\n",
        "    if Type ==  'all':\n",
        "      figure, ax1 = plt.subplots(1, 1,figsize=(15,7))\n",
        "      ax1.plot(t, sig, linewidth=2)\n",
        "      ax1.set_title(\"Record \" + str(self.idR) + ' Pacient ' + str(self.idP))\n",
        "      ax1.set_xlabel(\"Time(s)\")\n",
        "      ax1.set_ylabel(\"Amplitude\")\n",
        "      ax1.grid()\n",
        "      plt.figure (figsize=(18,9))\n",
        "\n",
        "    elif Type == 'channels':\n",
        "      num_of_channels = self.signal.shape[1]\n",
        "      cs = [\"#\"+''.join([random.choice('0123456789ABCDEF') for j in range(6)])\n",
        "             for i in range(num_of_channels)]\n",
        "      plt.figure (figsize=(30,15))\n",
        "      count = 0\n",
        "      for i in range(num_of_channels):\n",
        "        current_color=cs[count]\n",
        "        plt.plot(t,self.signal[::,i]+(num_of_channels-count)*1,color=current_color,linewidth=1,label = 'channel'+ str(i))\n",
        "        plt.legend(labelspacing = 3)\n",
        "        count = count + 1\n",
        "      plt.tick_params(axis='y', which='minor', labelsize=10,pad = 10)\n",
        "      plt.title(\"Record \" + str(self.idR) + 'Pacient ' + str(self.idP))\n",
        "      plt.xlabel(\"Time(s)\")\n",
        "      plt.ylabel(\"Amplitude\")\n",
        "      plt.tight_layout()\n",
        "\n",
        "  def up_plot(self):\n",
        "    signal = self.Items.take_signal()\n",
        "    plt.figure(figsize=(18,9))\n",
        "    plt.imshow(signal.transpose(),aspect = 'auto',cmap= 'jet_r',origin = 'upper',resample= True)\n",
        "    plt.title(\"Record \" + str(self.idR) + 'Pacient ' + str(self.idP))\n",
        "    plt.colorbar()\n",
        "\n",
        "  def Vetocardiogram(self):\n",
        "    signal = self.Items.take_signal()\n",
        "    vx = signal[:,12]\n",
        "    vy = signal[:,13]\n",
        "    vz = signal[:,14]\n",
        "    df = pd.DataFrame({\"x\": vx, \"y\":vy, \"z\":vz})\n",
        "    fig = px.line_3d(df,x ='x',y = 'y',z = 'z',title = \"Record vectorcardiogram \" + str(self.idR) + 'Pacient ' + str(self.idP))\n",
        "    fig.show()"
      ],
      "metadata": {
        "id": "RzCT4gz8Q_Dj"
      },
      "execution_count": 117,
      "outputs": []
    }
  ]
}