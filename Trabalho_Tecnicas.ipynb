{
  "nbformat": 4,
  "nbformat_minor": 0,
  "metadata": {
    "colab": {
      "provenance": [],
      "include_colab_link": true
    },
    "kernelspec": {
      "name": "python3",
      "display_name": "Python 3"
    },
    "language_info": {
      "name": "python"
    }
  },
  "cells": [
    {
      "cell_type": "markdown",
      "metadata": {
        "id": "view-in-github",
        "colab_type": "text"
      },
      "source": [
        "<a href=\"https://colab.research.google.com/github/Ni-cole17/Diagnostic-ECG-Database/blob/main/Trabalho_Tecnicas.ipynb\" target=\"_parent\"><img src=\"https://colab.research.google.com/assets/colab-badge.svg\" alt=\"Open In Colab\"/></a>"
      ]
    },
    {
      "cell_type": "markdown",
      "source": [
        "## Importações"
      ],
      "metadata": {
        "id": "mRD5UjkAsfMT"
      }
    },
    {
      "cell_type": "code",
      "source": [
        "from google.colab import drive\n",
        "drive.mount('/content/drive')"
      ],
      "metadata": {
        "colab": {
          "base_uri": "https://localhost:8080/"
        },
        "id": "XHXUZ-5GPWZx",
        "outputId": "072ede40-9ecd-4fa8-d63e-dbb9dc88c9f0"
      },
      "execution_count": 3,
      "outputs": [
        {
          "output_type": "stream",
          "name": "stdout",
          "text": [
            "Mounted at /content/drive\n"
          ]
        }
      ]
    },
    {
      "cell_type": "code",
      "source": [
        "!pip install wfdb"
      ],
      "metadata": {
        "colab": {
          "base_uri": "https://localhost:8080/"
        },
        "id": "rUQDEGcQSSnB",
        "outputId": "bd906343-c1d0-40bf-9097-0c1db53580b8"
      },
      "execution_count": 4,
      "outputs": [
        {
          "output_type": "stream",
          "name": "stdout",
          "text": [
            "Looking in indexes: https://pypi.org/simple, https://us-python.pkg.dev/colab-wheels/public/simple/\n",
            "Collecting wfdb\n",
            "  Downloading wfdb-4.0.0-py3-none-any.whl (161 kB)\n",
            "\u001b[K     |████████████████████████████████| 161 kB 5.2 MB/s \n",
            "\u001b[?25hRequirement already satisfied: SoundFile<0.12.0,>=0.10.0 in /usr/local/lib/python3.7/dist-packages (from wfdb) (0.11.0)\n",
            "Requirement already satisfied: numpy<2.0.0,>=1.10.1 in /usr/local/lib/python3.7/dist-packages (from wfdb) (1.21.6)\n",
            "Requirement already satisfied: requests<3.0.0,>=2.8.1 in /usr/local/lib/python3.7/dist-packages (from wfdb) (2.23.0)\n",
            "Requirement already satisfied: pandas<2.0.0,>=1.0.0 in /usr/local/lib/python3.7/dist-packages (from wfdb) (1.3.5)\n",
            "Requirement already satisfied: matplotlib<4.0.0,>=3.2.2 in /usr/local/lib/python3.7/dist-packages (from wfdb) (3.2.2)\n",
            "Requirement already satisfied: scipy<2.0.0,>=1.0.0 in /usr/local/lib/python3.7/dist-packages (from wfdb) (1.7.3)\n",
            "Requirement already satisfied: pyparsing!=2.0.4,!=2.1.2,!=2.1.6,>=2.0.1 in /usr/local/lib/python3.7/dist-packages (from matplotlib<4.0.0,>=3.2.2->wfdb) (3.0.9)\n",
            "Requirement already satisfied: cycler>=0.10 in /usr/local/lib/python3.7/dist-packages (from matplotlib<4.0.0,>=3.2.2->wfdb) (0.11.0)\n",
            "Requirement already satisfied: kiwisolver>=1.0.1 in /usr/local/lib/python3.7/dist-packages (from matplotlib<4.0.0,>=3.2.2->wfdb) (1.4.4)\n",
            "Requirement already satisfied: python-dateutil>=2.1 in /usr/local/lib/python3.7/dist-packages (from matplotlib<4.0.0,>=3.2.2->wfdb) (2.8.2)\n",
            "Requirement already satisfied: typing-extensions in /usr/local/lib/python3.7/dist-packages (from kiwisolver>=1.0.1->matplotlib<4.0.0,>=3.2.2->wfdb) (4.1.1)\n",
            "Requirement already satisfied: pytz>=2017.3 in /usr/local/lib/python3.7/dist-packages (from pandas<2.0.0,>=1.0.0->wfdb) (2022.4)\n",
            "Requirement already satisfied: six>=1.5 in /usr/local/lib/python3.7/dist-packages (from python-dateutil>=2.1->matplotlib<4.0.0,>=3.2.2->wfdb) (1.15.0)\n",
            "Requirement already satisfied: idna<3,>=2.5 in /usr/local/lib/python3.7/dist-packages (from requests<3.0.0,>=2.8.1->wfdb) (2.10)\n",
            "Requirement already satisfied: urllib3!=1.25.0,!=1.25.1,<1.26,>=1.21.1 in /usr/local/lib/python3.7/dist-packages (from requests<3.0.0,>=2.8.1->wfdb) (1.24.3)\n",
            "Requirement already satisfied: certifi>=2017.4.17 in /usr/local/lib/python3.7/dist-packages (from requests<3.0.0,>=2.8.1->wfdb) (2022.9.24)\n",
            "Requirement already satisfied: chardet<4,>=3.0.2 in /usr/local/lib/python3.7/dist-packages (from requests<3.0.0,>=2.8.1->wfdb) (3.0.4)\n",
            "Requirement already satisfied: cffi>=1.0 in /usr/local/lib/python3.7/dist-packages (from SoundFile<0.12.0,>=0.10.0->wfdb) (1.15.1)\n",
            "Requirement already satisfied: pycparser in /usr/local/lib/python3.7/dist-packages (from cffi>=1.0->SoundFile<0.12.0,>=0.10.0->wfdb) (2.21)\n",
            "Installing collected packages: wfdb\n",
            "Successfully installed wfdb-4.0.0\n"
          ]
        }
      ]
    },
    {
      "cell_type": "code",
      "source": [
        "import wfdb\n",
        "import pandas as pd\n",
        "import numpy as np\n",
        "import re\n",
        "import csv"
      ],
      "metadata": {
        "id": "gbAIyxRdScV-"
      },
      "execution_count": 20,
      "outputs": []
    },
    {
      "cell_type": "code",
      "source": [
        "!git clone https://github.com/MIT-LCP/wfdb-python.git"
      ],
      "metadata": {
        "id": "yPkV2pPmOknI",
        "colab": {
          "base_uri": "https://localhost:8080/"
        },
        "outputId": "19b40000-8bef-48b9-f1ef-e790c50bc4ec"
      },
      "execution_count": 6,
      "outputs": [
        {
          "output_type": "stream",
          "name": "stdout",
          "text": [
            "Cloning into 'wfdb-python'...\n",
            "remote: Enumerating objects: 5699, done.\u001b[K\n",
            "remote: Counting objects: 100% (610/610), done.\u001b[K\n",
            "remote: Compressing objects: 100% (300/300), done.\u001b[K\n",
            "remote: Total 5699 (delta 405), reused 439 (delta 302), pack-reused 5089\u001b[K\n",
            "Receiving objects: 100% (5699/5699), 167.03 MiB | 15.80 MiB/s, done.\n",
            "Resolving deltas: 100% (3751/3751), done.\n",
            "Checking out files: 100% (276/276), done.\n"
          ]
        }
      ]
    },
    {
      "cell_type": "code",
      "source": [
        "%cd wfdb-python"
      ],
      "metadata": {
        "id": "Jsv9qn3oOoT4",
        "colab": {
          "base_uri": "https://localhost:8080/"
        },
        "outputId": "f64c5591-16e1-4b7a-ad0f-1639187c5ae7"
      },
      "execution_count": 7,
      "outputs": [
        {
          "output_type": "stream",
          "name": "stdout",
          "text": [
            "/content/wfdb-python\n"
          ]
        }
      ]
    },
    {
      "cell_type": "markdown",
      "source": [
        "## Visualização (Pedro)\n"
      ],
      "metadata": {
        "id": "ToFWSBCKsiMe"
      }
    },
    {
      "cell_type": "code",
      "source": [],
      "metadata": {
        "id": "f_hj9uF5sx7s"
      },
      "execution_count": null,
      "outputs": []
    },
    {
      "cell_type": "markdown",
      "source": [
        "## Inicio (Nathalia)"
      ],
      "metadata": {
        "id": "5gBDcWsCsmh7"
      }
    },
    {
      "cell_type": "code",
      "source": [
        "# Função que lê sinal e paciente \n",
        "def read(a,b): \n",
        "  signals, fields = wfdb.rdsamp(a, channels=[*range(15)], sampfrom=100, sampto=15000, pn_dir='ptbdb/'+ b + '/')\n",
        "  return signals, fields\n",
        "\n",
        "#Ex.: x = read('s0010_re','patient001')"
      ],
      "metadata": {
        "id": "L9PWpx0-syhL"
      },
      "execution_count": null,
      "outputs": []
    },
    {
      "cell_type": "code",
      "source": [
        "#Função que converte a formata a lista \"comment para poder passar ela para dicionário\"\n",
        "def FormataLista(a):\n",
        "  ListaFormatada = []\n",
        "  for i in range(len(a)):\n",
        "    ListaFormatada.append(re.sub(r': +',\"//\",a[i].strip()).split(\"//\"))\n",
        "  return ListaFormatada"
      ],
      "metadata": {
        "id": "nrKf0AaaZgHN"
      },
      "execution_count": null,
      "outputs": []
    },
    {
      "cell_type": "code",
      "source": [
        "#Função que converte lista para dicionário\n",
        "def Convert(lst):\n",
        "    res_dct = {lst[i]: lst[i + 1] for i in range(0, len(lst), 2)}\n",
        "    return res_dct"
      ],
      "metadata": {
        "id": "MlRV9-XDZikn"
      },
      "execution_count": null,
      "outputs": []
    },
    {
      "cell_type": "code",
      "source": [
        "#Função que organiza documento de acordo com a base:\n",
        "def OrganizeFile(a,b):\n",
        "\n",
        "  Fields, Signals = read(a,b)\n",
        "  ListaFormatada = FormataLista(Fields['comments'])\n",
        "\n",
        "  paciente = {}\n",
        "  hemodynamics = {}\n",
        "  therapy = {}\n",
        "  HeartAttack = {}\n",
        "  Signal = {}\n",
        "\n",
        "  #Organizando Pacients\n",
        "  list1 = [0, 1, 7, 8]\n",
        "  for i in list1:\n",
        "    paciente.update(Convert(ListaFormatada[i]))\n",
        "  \n",
        "  #Organizando hemodynamics\n",
        "  list2 = [14, 15, 16, 17, 18, 19, 20, 21, 22, 23, 24, 25, 26, 27, 28, 29, 30, 31, 32, 33, 34, 35, 36]\n",
        "  for i in list2:\n",
        "    hemodynamics.update(Convert(ListaFormatada[i]))\n",
        "\n",
        "  #Organizando Therapy\n",
        "  list3 = [38, 39, 40, 41, 42, 43, 44, 45, 46, 47]\n",
        "  for i in list3:\n",
        "    therapy.update(Convert(ListaFormatada[i]))\n",
        "\n",
        "  #Organizando HeartAttack\n",
        "  list4 = [5, 6, 9, 10, 11, 12]\n",
        "  for i in list4:\n",
        "    HeartAttack.update(Convert(ListaFormatada[i]))\n",
        "\n",
        "  #Organizando Signals\n",
        "  #Signal.update(Signals)\n",
        "\n",
        "  #list0 = [2]\n",
        "  #for i in list0:\n",
        "  #  Signal.update(Convert(ListaFormatada[i]))\n",
        "\n",
        " # del Fields['comments']\n",
        "  #Signal.update(Fields)\n",
        "\n",
        "  return paciente, hemodynamics, therapy, HeartAttack"
      ],
      "metadata": {
        "id": "qzdOFrT6Zuk2"
      },
      "execution_count": null,
      "outputs": []
    },
    {
      "cell_type": "markdown",
      "source": [
        "## Classes objeto (Nicole)"
      ],
      "metadata": {
        "id": "x7gRiWbess4G"
      }
    },
    {
      "cell_type": "code",
      "source": [
        "class Object:\n",
        "  def getdados(self):\n",
        "    pass\n",
        "  def getid(self):\n",
        "    pass\n",
        "  def savedados(self):\n",
        "    pass"
      ],
      "metadata": {
        "id": "sjKWLWkoDteh"
      },
      "execution_count": 8,
      "outputs": []
    },
    {
      "cell_type": "code",
      "source": [
        "class Patient(Object):\n",
        "  def __init__(self, patient_dict):\n",
        "    self.__patient_dict = patient_dict\n",
        "    self.__csv = '/content/patient.csv'\n",
        "    self.idP = idP\n",
        "\n",
        "  def getdados(self):\n",
        "    # Seria interessante transformar as variáveis em locais?\n",
        "    self.__age = self.patient_dict['age']\n",
        "    self.__sex = self.patient_dict['sex']\n",
        "    self.__smoker = self.patient_dict['smoker']\n",
        "    self.__admission = self.patient_dict['admission_reason']\n",
        "    self.__injuries = self.patient_dict['Additional Diagnoses']\n",
        "    self.idP = self.generate_id()\n",
        "\n",
        "  def __generateid(self):\n",
        "    if self.idP == 'None':\n",
        "      idP = sorted(pd.read_csv(self.csv)['idP'].unique())[-1] + 1\n",
        "    return idP\n",
        "\n",
        "  def savedados(self):\n",
        "    print(self.patient_dict)\n"
      ],
      "metadata": {
        "id": "tIA7Kc-3sy3N"
      },
      "execution_count": 9,
      "outputs": []
    },
    {
      "cell_type": "code",
      "source": [
        "class Infarction(Object):\n",
        "  def __init__(self, patient_dict,id_P):\n",
        "    self.infarction_dict = patient_dict\n",
        "    self.csv = '/content/infarction.csv'\n",
        "\n",
        "  def getdados(self):\n",
        "    self.acute_infarction = self.infarction_dict['acute_infarction']\n",
        "    self.former_infarction = self.infarction_dict['former_infarction']\n",
        "    self.coronary_vessels = self.infarction_dict['coronary_vessels']\n",
        "    self.infartion_date = self.infarction_dict['infarction_date']\n",
        "    self.st_infarction_date = self.infarction_dict['1st_infarction_date']\n",
        "    self.nd_previuous_infarction_date = self.infarction_dict['2nd_infarction_date']\n",
        "\n",
        "  def savedados(self):\n",
        "    print(self.infarction_dict)\n"
      ],
      "metadata": {
        "id": "DXzHls3sGR1z"
      },
      "execution_count": 10,
      "outputs": []
    },
    {
      "cell_type": "code",
      "source": [
        "class Hemodinamics(Object):\n",
        "  def __init__(self, patient_dict):\n",
        "    self.hemodinamics_dict = patient_dict\n",
        "    self.csv = '/content/hemodinamics.csv'\n",
        "\n",
        "  def getdados(self):\n",
        "    self.catheterization_date = self.hemodinamics_dict['catheterization_date']\n",
        "    self.ventriculography = self.hemodinamics_dict['ventriculography']\n",
        "    self.chest_xray = self.hemodinamics_dict['chest_xray']\n",
        "    self.peripheral_blood_pressure = self.hemodinamics_dict['pp_blood_pressure']\n",
        "    self.rest_pulmonary_artery_pressure = self.hemodinamics_dict['rest_artery_pressure']\n",
        "    self.mean_rest_pulmonary_artey_pressure = self.hemodinamics_dict['mean_rest_artery_pressure']\n",
        "    self.mean_pulmonary_artery_pressure = self.hemodinamics_dict['mean_artery_pressure']\n",
        "    self.wedge_pulmonary_capilary_pressure = self.hemodinamics_dict['wedge_capilary_pressure']\n",
        "    self.cardiac_output = self.hemodinamics_dict['cardiac_output']\n",
        "    self.cardiac_index = self.hemodinamics_dict['cardiac_index']\n",
        "    self.stroke_volume_index = self.hemodinamics_dict['stroke_index'] \n",
        "    self.load_pulmonary_artey_pressure = self.hemodinamics_dict['stroke_index'] \n",
        "    self.aorta_sysdiast = self.hemodinamics_dict['aorta_sysdiast'] \n",
        "    self.aorta_mean = self.hemodinamics_dict['aorta_mean'] \n",
        "    self.left_ventricular = self.hemodinamics_dict['left_ventricular'] \n",
        "    self.RIVA = self.hemodinamics_dict['RIVA'] \n",
        "    self.RCX = self.hemodinamics_dict['RCX']\n",
        "    self.RCA = self.hemodinamics_dict['RCA'] \n",
        "    self.echo = self.hemodinamics_dict['echocardiography']  \n",
        "\n",
        "  def savedados(self):\n",
        "    print(self.infarction_dict)"
      ],
      "metadata": {
        "id": "wVlW6c0vHoga"
      },
      "execution_count": 11,
      "outputs": []
    },
    {
      "cell_type": "code",
      "source": [
        "class Therapy(Object):\n",
        "  def __init__(self, patient_dict):\n",
        "    self.therapy_dict = patient_dict\n",
        "    self.csv = '/content/therapy.csv'\n",
        "\n",
        "  def getdados(self):\n",
        "    self.admission_date = self.therapy_dict['admission_date']\n",
        "    self.medication = self.therapy_dict['medication_pre_admission']\n",
        "    self.start_lysis = self.therapy_dict['lysis']\n",
        "    self.lytic = self.therapy_dict['lytic']\n",
        "    self.dosage = self.therapy_dict['dosage']\n",
        "    self.add_medication = self.therapy_dict['add_medication']\n",
        "    self.hosp_medication = self.therapy_dict['hosp_medication']\n",
        "    self.discharge_medication = self.therapy_dict['discharge_medication']\n",
        "\n",
        "  def savedados(self):\n",
        "    print(self.infarction_dict)"
      ],
      "metadata": {
        "id": "T191UoRw-FQZ"
      },
      "execution_count": 12,
      "outputs": []
    },
    {
      "cell_type": "code",
      "source": [
        "import os"
      ],
      "metadata": {
        "id": "n2qckirtOroB"
      },
      "execution_count": 44,
      "outputs": []
    },
    {
      "cell_type": "code",
      "source": [
        "class Salva:\n",
        "  def __init__(self,some_dict,csv):\n",
        "    self.csv = csv\n",
        "    self.some_dict = some_dict\n",
        "  \n",
        "  def read_csv(self):\n",
        "    df = pd.read_csv(self.csv)\n",
        "    return df\n",
        "\n",
        "  def salva(self):\n",
        "    try:\n",
        "      with open(self.csv, 'a') as csv_file:  \n",
        "        writer = csv.writer(csv_file)\n",
        "        row = []\n",
        "        for key, value in self.some_dict.items():\n",
        "          row.append(value)\n",
        "        writer.writerow([value])\n",
        "    except:\n",
        "      with open(os.path.join('/content', 'mycsv.csv'), 'w') as csv_file:  \n",
        "        writer = csv.writer(csv_file)\n",
        "      #  row = []\n",
        "      #  for key, value in self.some_dict.items():\n",
        "      #    row.append(value)\n",
        "      #  writer.writerow([value])\n",
        "\n"
      ],
      "metadata": {
        "id": "BBA4MSAyEP6U"
      },
      "execution_count": 45,
      "outputs": []
    },
    {
      "cell_type": "code",
      "source": [
        "dicio_patient = {'age':10,'sex':12,'smoker':'No','admission_reason': 'Miocardial','Additional Diagnoses': 'n/a'}"
      ],
      "metadata": {
        "id": "LzblIQ59Fvk8"
      },
      "execution_count": 46,
      "outputs": []
    },
    {
      "cell_type": "code",
      "source": [
        "k = Salva(dicio_patient,'content/dict.csv')"
      ],
      "metadata": {
        "id": "dKQppcxbM4Ej"
      },
      "execution_count": 47,
      "outputs": []
    },
    {
      "cell_type": "code",
      "source": [
        "k.salva()"
      ],
      "metadata": {
        "id": "C7Z7pVyWNBLc"
      },
      "execution_count": 48,
      "outputs": []
    },
    {
      "cell_type": "code",
      "source": [
        "K = Patient(dicio_patient)"
      ],
      "metadata": {
        "id": "BujqvFA3GXe_"
      },
      "execution_count": null,
      "outputs": []
    },
    {
      "cell_type": "markdown",
      "source": [
        "## Utils"
      ],
      "metadata": {
        "id": "8rW6yalMszk5"
      }
    },
    {
      "cell_type": "code",
      "source": [
        "# Can also read the same files hosted on Physionet s0021bre\n",
        "signals, fields = wfdb.rdsamp('s0021bre', channels=[*range(15)], sampfrom=0, sampto=5000, pn_dir='ptbdb/patient005/')"
      ],
      "metadata": {
        "id": "ySTiQyf0SVcP"
      },
      "execution_count": null,
      "outputs": []
    },
    {
      "cell_type": "markdown",
      "source": [],
      "metadata": {
        "id": "agGDij4Ws0dA"
      }
    },
    {
      "cell_type": "code",
      "source": [
        "fields"
      ],
      "metadata": {
        "colab": {
          "base_uri": "https://localhost:8080/"
        },
        "id": "NNTyb0LnSljO",
        "outputId": "057ba680-a8ba-4201-a6ab-9679c051486c"
      },
      "execution_count": null,
      "outputs": [
        {
          "output_type": "execute_result",
          "data": {
            "text/plain": [
              "{'fs': 1000,\n",
              " 'sig_len': 5000,\n",
              " 'n_sig': 15,\n",
              " 'base_date': None,\n",
              " 'base_time': None,\n",
              " 'units': ['mV',\n",
              "  'mV',\n",
              "  'mV',\n",
              "  'mV',\n",
              "  'mV',\n",
              "  'mV',\n",
              "  'mV',\n",
              "  'mV',\n",
              "  'mV',\n",
              "  'mV',\n",
              "  'mV',\n",
              "  'mV',\n",
              "  'mV',\n",
              "  'mV',\n",
              "  'mV'],\n",
              " 'sig_name': ['i',\n",
              "  'ii',\n",
              "  'iii',\n",
              "  'avr',\n",
              "  'avl',\n",
              "  'avf',\n",
              "  'v1',\n",
              "  'v2',\n",
              "  'v3',\n",
              "  'v4',\n",
              "  'v5',\n",
              "  'v6',\n",
              "  'vx',\n",
              "  'vy',\n",
              "  'vz'],\n",
              " 'comments': ['age: 74',\n",
              "  'sex: male',\n",
              "  'ECG date: 24/10/1990',\n",
              "  'Diagnose:',\n",
              "  'Reason for admission: Myocardial infarction',\n",
              "  'Acute infarction (localization): anterior',\n",
              "  'Former infarction (localization): no',\n",
              "  'Additional diagnoses: Skoliosis',\n",
              "  'Smoker: no',\n",
              "  'Number of coronary vessels involved: 2',\n",
              "  'Infarction date (acute): 23-Oct-90',\n",
              "  'Previous infarction (1) date: n/a',\n",
              "  'Previous infarction (2) date: n/a',\n",
              "  'Hemodynamics:',\n",
              "  'Catheterization date: 30-Oct-90',\n",
              "  'Ventriculography: Akinesia antero-lateral and infero-apical wall',\n",
              "  'Chest X-ray: normal',\n",
              "  'Peripheral blood Pressure (syst/diast):  140/70 mmHg',\n",
              "  'Pulmonary artery pressure (at rest) (syst/diast):   27/14 cmH2O',\n",
              "  'Pulmonary artery pressure (at rest) (mean): 22 cmH2O',\n",
              "  'Pulmonary capillary wedge pressure (at rest): 18 cmH2O',\n",
              "  'Cardiac output (at rest): 4,34 l/min',\n",
              "  'Cardiac index (at rest): 2,47 l/min/sqrmBSA',\n",
              "  'Stroke volume index (at rest):  26.5 ml/beat',\n",
              "  'Pulmonary artery pressure (laod) (syst/diast):   52/32 cmH2O',\n",
              "  'Pulmonary artery pressure (laod) (mean): 43 cmH2O',\n",
              "  'Pulmonary capillary wedge pressure (load): 35 cmH2O',\n",
              "  'Cardiac output (load): 6,1 l/min',\n",
              "  'Cardiac index (load): 3,47 l/min/sqrmBSA',\n",
              "  'Stroke volume index (load): 29,9 ml/beat',\n",
              "  'Aorta (at rest) (syst/diast): n/a',\n",
              "  'Aorta (at rest) mean: n/a',\n",
              "  'Left ventricular enddiastolic pressure: n/a',\n",
              "  'Left coronary artery stenoses (RIVA): RIVA 100% proximal to ramus diagonalis_1, Ramus marginalis sinister_1 80%, Ramus intermedius 90%',\n",
              "  'Left coronary artery stenoses (RCX): No stenoses',\n",
              "  'Right coronary artery stenoses (RCA): No stenoses',\n",
              "  'Echocardiography: n/a',\n",
              "  'Therapy:',\n",
              "  'Infarction date: 23-Oct-90',\n",
              "  'Catheterization date: 30-Oct-90',\n",
              "  'Admission date: 23-Oct-90',\n",
              "  'Medication pre admission: Naftidrofurylhydrogenoxalate Ca-antagonist',\n",
              "  'Start lysis therapy (hh.mm): 20:30',\n",
              "  'Lytic agent: Gamma-TPA',\n",
              "  'Dosage (lytic agent): 30 mg',\n",
              "  'Additional medication: ASA Ca-antagonist Amiloride+Chlorothiazide Triflupromazin Nitrate',\n",
              "  'In hospital medication: Isosorbit-Mononitrate Captopril Isosorbit-Dinitrate Rhythmonorm',\n",
              "  'Medication after discharge: Isosorbit-Dinitrate Captopril Propafenone ASA']}"
            ]
          },
          "metadata": {},
          "execution_count": 5
        }
      ]
    },
    {
      "cell_type": "code",
      "source": [
        "fields['comments']"
      ],
      "metadata": {
        "colab": {
          "base_uri": "https://localhost:8080/"
        },
        "id": "e3d5SqQyTDZ9",
        "outputId": "61146656-f157-4dea-aba7-40720c056e5a"
      },
      "execution_count": null,
      "outputs": [
        {
          "output_type": "execute_result",
          "data": {
            "text/plain": [
              "['age: 74',\n",
              " 'sex: male',\n",
              " 'ECG date: 24/10/1990',\n",
              " 'Diagnose:',\n",
              " 'Reason for admission: Myocardial infarction',\n",
              " 'Acute infarction (localization): anterior',\n",
              " 'Former infarction (localization): no',\n",
              " 'Additional diagnoses: Skoliosis',\n",
              " 'Smoker: no',\n",
              " 'Number of coronary vessels involved: 2',\n",
              " 'Infarction date (acute): 23-Oct-90',\n",
              " 'Previous infarction (1) date: n/a',\n",
              " 'Previous infarction (2) date: n/a',\n",
              " 'Hemodynamics:',\n",
              " 'Catheterization date: 30-Oct-90',\n",
              " 'Ventriculography: Akinesia antero-lateral and infero-apical wall',\n",
              " 'Chest X-ray: normal',\n",
              " 'Peripheral blood Pressure (syst/diast):  140/70 mmHg',\n",
              " 'Pulmonary artery pressure (at rest) (syst/diast):   27/14 cmH2O',\n",
              " 'Pulmonary artery pressure (at rest) (mean): 22 cmH2O',\n",
              " 'Pulmonary capillary wedge pressure (at rest): 18 cmH2O',\n",
              " 'Cardiac output (at rest): 4,34 l/min',\n",
              " 'Cardiac index (at rest): 2,47 l/min/sqrmBSA',\n",
              " 'Stroke volume index (at rest):  26.5 ml/beat',\n",
              " 'Pulmonary artery pressure (laod) (syst/diast):   52/32 cmH2O',\n",
              " 'Pulmonary artery pressure (laod) (mean): 43 cmH2O',\n",
              " 'Pulmonary capillary wedge pressure (load): 35 cmH2O',\n",
              " 'Cardiac output (load): 6,1 l/min',\n",
              " 'Cardiac index (load): 3,47 l/min/sqrmBSA',\n",
              " 'Stroke volume index (load): 29,9 ml/beat',\n",
              " 'Aorta (at rest) (syst/diast): n/a',\n",
              " 'Aorta (at rest) mean: n/a',\n",
              " 'Left ventricular enddiastolic pressure: n/a',\n",
              " 'Left coronary artery stenoses (RIVA): RIVA 100% proximal to ramus diagonalis_1, Ramus marginalis sinister_1 80%, Ramus intermedius 90%',\n",
              " 'Left coronary artery stenoses (RCX): No stenoses',\n",
              " 'Right coronary artery stenoses (RCA): No stenoses',\n",
              " 'Echocardiography: n/a',\n",
              " 'Therapy:',\n",
              " 'Infarction date: 23-Oct-90',\n",
              " 'Catheterization date: 30-Oct-90',\n",
              " 'Admission date: 23-Oct-90',\n",
              " 'Medication pre admission: Naftidrofurylhydrogenoxalate Ca-antagonist',\n",
              " 'Start lysis therapy (hh.mm): 20:30',\n",
              " 'Lytic agent: Gamma-TPA',\n",
              " 'Dosage (lytic agent): 30 mg',\n",
              " 'Additional medication: ASA Ca-antagonist Amiloride+Chlorothiazide Triflupromazin Nitrate',\n",
              " 'In hospital medication: Isosorbit-Mononitrate Captopril Isosorbit-Dinitrate Rhythmonorm',\n",
              " 'Medication after discharge: Isosorbit-Dinitrate Captopril Propafenone ASA']"
            ]
          },
          "metadata": {},
          "execution_count": 6
        }
      ]
    },
    {
      "cell_type": "code",
      "source": [
        "comment = pd.DataFrame(fields['comments'])"
      ],
      "metadata": {
        "id": "tZSqORK8TKIp"
      },
      "execution_count": null,
      "outputs": []
    },
    {
      "cell_type": "code",
      "source": [],
      "metadata": {
        "colab": {
          "base_uri": "https://localhost:8080/",
          "height": 1000
        },
        "id": "Biq6AvuhX4YH",
        "outputId": "6bec58f5-a4d0-4467-8f03-219691941174"
      },
      "execution_count": null,
      "outputs": [
        {
          "output_type": "execute_result",
          "data": {
            "text/plain": [
              "                                                    0\n",
              "0                                             age: 74\n",
              "1                                           sex: male\n",
              "2                                ECG date: 24/10/1990\n",
              "3                                           Diagnose:\n",
              "4         Reason for admission: Myocardial infarction\n",
              "5           Acute infarction (localization): anterior\n",
              "6                Former infarction (localization): no\n",
              "7                     Additional diagnoses: Skoliosis\n",
              "8                                          Smoker: no\n",
              "9              Number of coronary vessels involved: 2\n",
              "10                 Infarction date (acute): 23-Oct-90\n",
              "11                  Previous infarction (1) date: n/a\n",
              "12                  Previous infarction (2) date: n/a\n",
              "13                                      Hemodynamics:\n",
              "14                    Catheterization date: 30-Oct-90\n",
              "15  Ventriculography: Akinesia antero-lateral and ...\n",
              "16                                Chest X-ray: normal\n",
              "17  Peripheral blood Pressure (syst/diast):  140/7...\n",
              "18  Pulmonary artery pressure (at rest) (syst/dias...\n",
              "19  Pulmonary artery pressure (at rest) (mean): 22...\n",
              "20  Pulmonary capillary wedge pressure (at rest): ...\n",
              "21               Cardiac output (at rest): 4,34 l/min\n",
              "22        Cardiac index (at rest): 2,47 l/min/sqrmBSA\n",
              "23       Stroke volume index (at rest):  26.5 ml/beat\n",
              "24  Pulmonary artery pressure (laod) (syst/diast):...\n",
              "25  Pulmonary artery pressure (laod) (mean): 43 cmH2O\n",
              "26  Pulmonary capillary wedge pressure (load): 35 ...\n",
              "27                   Cardiac output (load): 6,1 l/min\n",
              "28           Cardiac index (load): 3,47 l/min/sqrmBSA\n",
              "29           Stroke volume index (load): 29,9 ml/beat\n",
              "30                  Aorta (at rest) (syst/diast): n/a\n",
              "31                          Aorta (at rest) mean: n/a\n",
              "32        Left ventricular enddiastolic pressure: n/a\n",
              "33  Left coronary artery stenoses (RIVA): RIVA 100...\n",
              "34   Left coronary artery stenoses (RCX): No stenoses\n",
              "35  Right coronary artery stenoses (RCA): No stenoses\n",
              "36                              Echocardiography: n/a\n",
              "37                                           Therapy:\n",
              "38                         Infarction date: 23-Oct-90\n",
              "39                    Catheterization date: 30-Oct-90\n",
              "40                          Admission date: 23-Oct-90\n",
              "41  Medication pre admission: Naftidrofurylhydroge...\n",
              "42                 Start lysis therapy (hh.mm): 20:30\n",
              "43                             Lytic agent: Gamma-TPA\n",
              "44                        Dosage (lytic agent): 30 mg\n",
              "45  Additional medication: ASA Ca-antagonist Amilo...\n",
              "46  In hospital medication: Isosorbit-Mononitrate ...\n",
              "47  Medication after discharge: Isosorbit-Dinitrat..."
            ],
            "text/html": [
              "\n",
              "  <div id=\"df-0e938770-b61c-450b-a02c-c6fdb9e9fbed\">\n",
              "    <div class=\"colab-df-container\">\n",
              "      <div>\n",
              "<style scoped>\n",
              "    .dataframe tbody tr th:only-of-type {\n",
              "        vertical-align: middle;\n",
              "    }\n",
              "\n",
              "    .dataframe tbody tr th {\n",
              "        vertical-align: top;\n",
              "    }\n",
              "\n",
              "    .dataframe thead th {\n",
              "        text-align: right;\n",
              "    }\n",
              "</style>\n",
              "<table border=\"1\" class=\"dataframe\">\n",
              "  <thead>\n",
              "    <tr style=\"text-align: right;\">\n",
              "      <th></th>\n",
              "      <th>0</th>\n",
              "    </tr>\n",
              "  </thead>\n",
              "  <tbody>\n",
              "    <tr>\n",
              "      <th>0</th>\n",
              "      <td>age: 74</td>\n",
              "    </tr>\n",
              "    <tr>\n",
              "      <th>1</th>\n",
              "      <td>sex: male</td>\n",
              "    </tr>\n",
              "    <tr>\n",
              "      <th>2</th>\n",
              "      <td>ECG date: 24/10/1990</td>\n",
              "    </tr>\n",
              "    <tr>\n",
              "      <th>3</th>\n",
              "      <td>Diagnose:</td>\n",
              "    </tr>\n",
              "    <tr>\n",
              "      <th>4</th>\n",
              "      <td>Reason for admission: Myocardial infarction</td>\n",
              "    </tr>\n",
              "    <tr>\n",
              "      <th>5</th>\n",
              "      <td>Acute infarction (localization): anterior</td>\n",
              "    </tr>\n",
              "    <tr>\n",
              "      <th>6</th>\n",
              "      <td>Former infarction (localization): no</td>\n",
              "    </tr>\n",
              "    <tr>\n",
              "      <th>7</th>\n",
              "      <td>Additional diagnoses: Skoliosis</td>\n",
              "    </tr>\n",
              "    <tr>\n",
              "      <th>8</th>\n",
              "      <td>Smoker: no</td>\n",
              "    </tr>\n",
              "    <tr>\n",
              "      <th>9</th>\n",
              "      <td>Number of coronary vessels involved: 2</td>\n",
              "    </tr>\n",
              "    <tr>\n",
              "      <th>10</th>\n",
              "      <td>Infarction date (acute): 23-Oct-90</td>\n",
              "    </tr>\n",
              "    <tr>\n",
              "      <th>11</th>\n",
              "      <td>Previous infarction (1) date: n/a</td>\n",
              "    </tr>\n",
              "    <tr>\n",
              "      <th>12</th>\n",
              "      <td>Previous infarction (2) date: n/a</td>\n",
              "    </tr>\n",
              "    <tr>\n",
              "      <th>13</th>\n",
              "      <td>Hemodynamics:</td>\n",
              "    </tr>\n",
              "    <tr>\n",
              "      <th>14</th>\n",
              "      <td>Catheterization date: 30-Oct-90</td>\n",
              "    </tr>\n",
              "    <tr>\n",
              "      <th>15</th>\n",
              "      <td>Ventriculography: Akinesia antero-lateral and ...</td>\n",
              "    </tr>\n",
              "    <tr>\n",
              "      <th>16</th>\n",
              "      <td>Chest X-ray: normal</td>\n",
              "    </tr>\n",
              "    <tr>\n",
              "      <th>17</th>\n",
              "      <td>Peripheral blood Pressure (syst/diast):  140/7...</td>\n",
              "    </tr>\n",
              "    <tr>\n",
              "      <th>18</th>\n",
              "      <td>Pulmonary artery pressure (at rest) (syst/dias...</td>\n",
              "    </tr>\n",
              "    <tr>\n",
              "      <th>19</th>\n",
              "      <td>Pulmonary artery pressure (at rest) (mean): 22...</td>\n",
              "    </tr>\n",
              "    <tr>\n",
              "      <th>20</th>\n",
              "      <td>Pulmonary capillary wedge pressure (at rest): ...</td>\n",
              "    </tr>\n",
              "    <tr>\n",
              "      <th>21</th>\n",
              "      <td>Cardiac output (at rest): 4,34 l/min</td>\n",
              "    </tr>\n",
              "    <tr>\n",
              "      <th>22</th>\n",
              "      <td>Cardiac index (at rest): 2,47 l/min/sqrmBSA</td>\n",
              "    </tr>\n",
              "    <tr>\n",
              "      <th>23</th>\n",
              "      <td>Stroke volume index (at rest):  26.5 ml/beat</td>\n",
              "    </tr>\n",
              "    <tr>\n",
              "      <th>24</th>\n",
              "      <td>Pulmonary artery pressure (laod) (syst/diast):...</td>\n",
              "    </tr>\n",
              "    <tr>\n",
              "      <th>25</th>\n",
              "      <td>Pulmonary artery pressure (laod) (mean): 43 cmH2O</td>\n",
              "    </tr>\n",
              "    <tr>\n",
              "      <th>26</th>\n",
              "      <td>Pulmonary capillary wedge pressure (load): 35 ...</td>\n",
              "    </tr>\n",
              "    <tr>\n",
              "      <th>27</th>\n",
              "      <td>Cardiac output (load): 6,1 l/min</td>\n",
              "    </tr>\n",
              "    <tr>\n",
              "      <th>28</th>\n",
              "      <td>Cardiac index (load): 3,47 l/min/sqrmBSA</td>\n",
              "    </tr>\n",
              "    <tr>\n",
              "      <th>29</th>\n",
              "      <td>Stroke volume index (load): 29,9 ml/beat</td>\n",
              "    </tr>\n",
              "    <tr>\n",
              "      <th>30</th>\n",
              "      <td>Aorta (at rest) (syst/diast): n/a</td>\n",
              "    </tr>\n",
              "    <tr>\n",
              "      <th>31</th>\n",
              "      <td>Aorta (at rest) mean: n/a</td>\n",
              "    </tr>\n",
              "    <tr>\n",
              "      <th>32</th>\n",
              "      <td>Left ventricular enddiastolic pressure: n/a</td>\n",
              "    </tr>\n",
              "    <tr>\n",
              "      <th>33</th>\n",
              "      <td>Left coronary artery stenoses (RIVA): RIVA 100...</td>\n",
              "    </tr>\n",
              "    <tr>\n",
              "      <th>34</th>\n",
              "      <td>Left coronary artery stenoses (RCX): No stenoses</td>\n",
              "    </tr>\n",
              "    <tr>\n",
              "      <th>35</th>\n",
              "      <td>Right coronary artery stenoses (RCA): No stenoses</td>\n",
              "    </tr>\n",
              "    <tr>\n",
              "      <th>36</th>\n",
              "      <td>Echocardiography: n/a</td>\n",
              "    </tr>\n",
              "    <tr>\n",
              "      <th>37</th>\n",
              "      <td>Therapy:</td>\n",
              "    </tr>\n",
              "    <tr>\n",
              "      <th>38</th>\n",
              "      <td>Infarction date: 23-Oct-90</td>\n",
              "    </tr>\n",
              "    <tr>\n",
              "      <th>39</th>\n",
              "      <td>Catheterization date: 30-Oct-90</td>\n",
              "    </tr>\n",
              "    <tr>\n",
              "      <th>40</th>\n",
              "      <td>Admission date: 23-Oct-90</td>\n",
              "    </tr>\n",
              "    <tr>\n",
              "      <th>41</th>\n",
              "      <td>Medication pre admission: Naftidrofurylhydroge...</td>\n",
              "    </tr>\n",
              "    <tr>\n",
              "      <th>42</th>\n",
              "      <td>Start lysis therapy (hh.mm): 20:30</td>\n",
              "    </tr>\n",
              "    <tr>\n",
              "      <th>43</th>\n",
              "      <td>Lytic agent: Gamma-TPA</td>\n",
              "    </tr>\n",
              "    <tr>\n",
              "      <th>44</th>\n",
              "      <td>Dosage (lytic agent): 30 mg</td>\n",
              "    </tr>\n",
              "    <tr>\n",
              "      <th>45</th>\n",
              "      <td>Additional medication: ASA Ca-antagonist Amilo...</td>\n",
              "    </tr>\n",
              "    <tr>\n",
              "      <th>46</th>\n",
              "      <td>In hospital medication: Isosorbit-Mononitrate ...</td>\n",
              "    </tr>\n",
              "    <tr>\n",
              "      <th>47</th>\n",
              "      <td>Medication after discharge: Isosorbit-Dinitrat...</td>\n",
              "    </tr>\n",
              "  </tbody>\n",
              "</table>\n",
              "</div>\n",
              "      <button class=\"colab-df-convert\" onclick=\"convertToInteractive('df-0e938770-b61c-450b-a02c-c6fdb9e9fbed')\"\n",
              "              title=\"Convert this dataframe to an interactive table.\"\n",
              "              style=\"display:none;\">\n",
              "        \n",
              "  <svg xmlns=\"http://www.w3.org/2000/svg\" height=\"24px\"viewBox=\"0 0 24 24\"\n",
              "       width=\"24px\">\n",
              "    <path d=\"M0 0h24v24H0V0z\" fill=\"none\"/>\n",
              "    <path d=\"M18.56 5.44l.94 2.06.94-2.06 2.06-.94-2.06-.94-.94-2.06-.94 2.06-2.06.94zm-11 1L8.5 8.5l.94-2.06 2.06-.94-2.06-.94L8.5 2.5l-.94 2.06-2.06.94zm10 10l.94 2.06.94-2.06 2.06-.94-2.06-.94-.94-2.06-.94 2.06-2.06.94z\"/><path d=\"M17.41 7.96l-1.37-1.37c-.4-.4-.92-.59-1.43-.59-.52 0-1.04.2-1.43.59L10.3 9.45l-7.72 7.72c-.78.78-.78 2.05 0 2.83L4 21.41c.39.39.9.59 1.41.59.51 0 1.02-.2 1.41-.59l7.78-7.78 2.81-2.81c.8-.78.8-2.07 0-2.86zM5.41 20L4 18.59l7.72-7.72 1.47 1.35L5.41 20z\"/>\n",
              "  </svg>\n",
              "      </button>\n",
              "      \n",
              "  <style>\n",
              "    .colab-df-container {\n",
              "      display:flex;\n",
              "      flex-wrap:wrap;\n",
              "      gap: 12px;\n",
              "    }\n",
              "\n",
              "    .colab-df-convert {\n",
              "      background-color: #E8F0FE;\n",
              "      border: none;\n",
              "      border-radius: 50%;\n",
              "      cursor: pointer;\n",
              "      display: none;\n",
              "      fill: #1967D2;\n",
              "      height: 32px;\n",
              "      padding: 0 0 0 0;\n",
              "      width: 32px;\n",
              "    }\n",
              "\n",
              "    .colab-df-convert:hover {\n",
              "      background-color: #E2EBFA;\n",
              "      box-shadow: 0px 1px 2px rgba(60, 64, 67, 0.3), 0px 1px 3px 1px rgba(60, 64, 67, 0.15);\n",
              "      fill: #174EA6;\n",
              "    }\n",
              "\n",
              "    [theme=dark] .colab-df-convert {\n",
              "      background-color: #3B4455;\n",
              "      fill: #D2E3FC;\n",
              "    }\n",
              "\n",
              "    [theme=dark] .colab-df-convert:hover {\n",
              "      background-color: #434B5C;\n",
              "      box-shadow: 0px 1px 3px 1px rgba(0, 0, 0, 0.15);\n",
              "      filter: drop-shadow(0px 1px 2px rgba(0, 0, 0, 0.3));\n",
              "      fill: #FFFFFF;\n",
              "    }\n",
              "  </style>\n",
              "\n",
              "      <script>\n",
              "        const buttonEl =\n",
              "          document.querySelector('#df-0e938770-b61c-450b-a02c-c6fdb9e9fbed button.colab-df-convert');\n",
              "        buttonEl.style.display =\n",
              "          google.colab.kernel.accessAllowed ? 'block' : 'none';\n",
              "\n",
              "        async function convertToInteractive(key) {\n",
              "          const element = document.querySelector('#df-0e938770-b61c-450b-a02c-c6fdb9e9fbed');\n",
              "          const dataTable =\n",
              "            await google.colab.kernel.invokeFunction('convertToInteractive',\n",
              "                                                     [key], {});\n",
              "          if (!dataTable) return;\n",
              "\n",
              "          const docLinkHtml = 'Like what you see? Visit the ' +\n",
              "            '<a target=\"_blank\" href=https://colab.research.google.com/notebooks/data_table.ipynb>data table notebook</a>'\n",
              "            + ' to learn more about interactive tables.';\n",
              "          element.innerHTML = '';\n",
              "          dataTable['output_type'] = 'display_data';\n",
              "          await google.colab.output.renderOutput(dataTable, element);\n",
              "          const docLink = document.createElement('div');\n",
              "          docLink.innerHTML = docLinkHtml;\n",
              "          element.appendChild(docLink);\n",
              "        }\n",
              "      </script>\n",
              "    </div>\n",
              "  </div>\n",
              "  "
            ]
          },
          "metadata": {},
          "execution_count": 22
        }
      ]
    },
    {
      "cell_type": "code",
      "source": [
        "import sqlite3"
      ],
      "metadata": {
        "id": "--VcMnq8Qsjv"
      },
      "execution_count": null,
      "outputs": []
    },
    {
      "cell_type": "code",
      "source": [
        "conn = sqlite3.connect('test.db')\n",
        " \n",
        "conn.execute('''\n",
        "CREATE TABLE Record (\n",
        "   Record VARCHAR PRIMARY KEY NOT NULL,\n",
        "   Age INTEGER NOT NULL ,\n",
        "   Sex BOOLEAN NOT NULL \n",
        " );''')\n",
        " \n",
        "conn.commit()\n",
        " \n",
        "print(\"Records table created\");"
      ],
      "metadata": {
        "colab": {
          "base_uri": "https://localhost:8080/"
        },
        "id": "IKAKBBpDQvGg",
        "outputId": "a9fabd83-a651-421a-f346-fee4ad8e648d"
      },
      "execution_count": null,
      "outputs": [
        {
          "output_type": "stream",
          "name": "stdout",
          "text": [
            "Records table created\n"
          ]
        }
      ]
    },
    {
      "cell_type": "code",
      "source": [
        "conn.execute(\"INSERT INTO Record VALUES (?,?,?)\", 's0021bre',fields['comments']['age'],\"TRUE\")"
      ],
      "metadata": {
        "colab": {
          "base_uri": "https://localhost:8080/",
          "height": 166
        },
        "id": "qiuJSx95QxRB",
        "outputId": "267f0b22-c7f4-4d71-d378-15fd4a280ef2"
      },
      "execution_count": null,
      "outputs": [
        {
          "output_type": "error",
          "ename": "TypeError",
          "evalue": "ignored",
          "traceback": [
            "\u001b[0;31m---------------------------------------------------------------------------\u001b[0m",
            "\u001b[0;31mTypeError\u001b[0m                                 Traceback (most recent call last)",
            "\u001b[0;32m<ipython-input-20-a0a428771a83>\u001b[0m in \u001b[0;36m<module>\u001b[0;34m\u001b[0m\n\u001b[0;32m----> 1\u001b[0;31m \u001b[0mconn\u001b[0m\u001b[0;34m.\u001b[0m\u001b[0mexecute\u001b[0m\u001b[0;34m(\u001b[0m\u001b[0;34m\"INSERT INTO Record VALUES (?,?,?)\"\u001b[0m\u001b[0;34m,\u001b[0m \u001b[0;34m's0021bre'\u001b[0m\u001b[0;34m,\u001b[0m\u001b[0mfields\u001b[0m\u001b[0;34m[\u001b[0m\u001b[0;34m'comments'\u001b[0m\u001b[0;34m]\u001b[0m\u001b[0;34m[\u001b[0m\u001b[0;34m'age'\u001b[0m\u001b[0;34m]\u001b[0m\u001b[0;34m,\u001b[0m\u001b[0;34m\"TRUE\"\u001b[0m\u001b[0;34m)\u001b[0m\u001b[0;34m\u001b[0m\u001b[0;34m\u001b[0m\u001b[0m\n\u001b[0m",
            "\u001b[0;31mTypeError\u001b[0m: list indices must be integers or slices, not str"
          ]
        }
      ]
    },
    {
      "cell_type": "code",
      "source": [
        "conn.close()"
      ],
      "metadata": {
        "id": "PpAFPMdBSBFJ"
      },
      "execution_count": null,
      "outputs": []
    }
  ]
}